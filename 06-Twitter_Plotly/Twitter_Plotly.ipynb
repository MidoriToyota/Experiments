{
 "cells": [
  {
   "cell_type": "markdown",
   "metadata": {},
   "source": [
    "# **Análise de dados Twitter - Plotly**\n",
    "---\n",
    "\n",
    "<a href=\"https://midoritoyota.netlify.app/\" target=\"_blank\"><img align=\"left\" src=\"portfolio.png\" title=\"See my portfolio!\"/></a><img align=\"left\" src=\"espaco.png\"/>\n",
    "\n",
    "<a href=\"mailto:midori.toyota@gmail.com\" target=\"_blank\"><img align=\"left\" src=\"gmail.png\" title=\"Contact me!\"/></a><img align=\"left\" src=\"espaco.png\"/>\n",
    "\n",
    "<a href=\"https://www.linkedin.com/in/midoritoyota/\" target=\"_blank\"> <img align=\"left\" src=\"linkedin.png\" title=\"Connect with me on linkedin!\" /></a><img align=\"left\" src=\"espaco.png\"/>\n",
    "\n",
    "<a href=\"https://github.com/MidoriToyota\" target=\"_blank\"> <img align=\"left\" src=\"github.png\" title=\"Follow me on github!\"/></a>\n",
    "\n",
    "<br/><br/>\n",
    "\n",
    "Esse notebook foi utilizado para montar as funcões do MyTwitterData. \n",
    "\n",
    "Confira o aplicativo:\n",
    "\n",
    "https://mytwitterdata.herokuapp.com/"
   ]
  },
  {
   "cell_type": "markdown",
   "metadata": {},
   "source": [
    "## **Pacotes**"
   ]
  },
  {
   "cell_type": "code",
   "execution_count": 1,
   "metadata": {},
   "outputs": [],
   "source": [
    "# Pacotes\n",
    "import pandas as pd\n",
    "from datetime import datetime\n",
    "from datetime import date\n",
    "import calendar\n",
    "import matplotlib.pyplot as plt\n",
    "from collections import Counter\n",
    "import seaborn as sns\n",
    "import re\n",
    "from nltk import tokenize\n",
    "from nltk import FreqDist\n",
    "from nltk.corpus import stopwords\n",
    "from nltk.tokenize import word_tokenize\n",
    "import matplotlib.image as mpimg \n",
    "import numpy as np\n",
    "from unicodedata import normalize\n",
    "import chart_studio.plotly as py\n",
    "import plotly.graph_objs as go\n",
    "from wordcloud import WordCloud"
   ]
  },
  {
   "cell_type": "markdown",
   "metadata": {},
   "source": [
    "## **Pré Processamento**\n"
   ]
  },
  {
   "cell_type": "code",
   "execution_count": 2,
   "metadata": {
    "scrolled": true
   },
   "outputs": [],
   "source": [
    "# Carregando os tweets - No aplicativo isso será feito por upload\n",
    "df = pd.read_csv(\"tweets_exemplo.csv\")"
   ]
  },
  {
   "cell_type": "code",
   "execution_count": 3,
   "metadata": {},
   "outputs": [
    {
     "data": {
      "text/html": [
       "<div>\n",
       "<style scoped>\n",
       "    .dataframe tbody tr th:only-of-type {\n",
       "        vertical-align: middle;\n",
       "    }\n",
       "\n",
       "    .dataframe tbody tr th {\n",
       "        vertical-align: top;\n",
       "    }\n",
       "\n",
       "    .dataframe thead th {\n",
       "        text-align: right;\n",
       "    }\n",
       "</style>\n",
       "<table border=\"1\" class=\"dataframe\">\n",
       "  <thead>\n",
       "    <tr style=\"text-align: right;\">\n",
       "      <th></th>\n",
       "      <th>Unnamed: 0</th>\n",
       "      <th>created_at</th>\n",
       "      <th>id</th>\n",
       "      <th>full_text</th>\n",
       "      <th>lang</th>\n",
       "      <th>retweet_count</th>\n",
       "      <th>favorite_count</th>\n",
       "      <th>weekday</th>\n",
       "      <th>month</th>\n",
       "      <th>hour</th>\n",
       "      <th>year</th>\n",
       "      <th>date</th>\n",
       "      <th>favorite</th>\n",
       "      <th>retweet</th>\n",
       "      <th>period</th>\n",
       "    </tr>\n",
       "  </thead>\n",
       "  <tbody>\n",
       "    <tr>\n",
       "      <th>0</th>\n",
       "      <td>1</td>\n",
       "      <td>2020-06-02 02:14:43+00:00</td>\n",
       "      <td>1.267641e+18</td>\n",
       "      <td>@OsmarTerra Dr. @OsmarTerra, desafie estes suj...</td>\n",
       "      <td>pt</td>\n",
       "      <td>0</td>\n",
       "      <td>0</td>\n",
       "      <td>Tuesday</td>\n",
       "      <td>June</td>\n",
       "      <td>2</td>\n",
       "      <td>2020</td>\n",
       "      <td>2020-06-02</td>\n",
       "      <td>Sem like</td>\n",
       "      <td>Sem retweet</td>\n",
       "      <td>Jun-2020</td>\n",
       "    </tr>\n",
       "    <tr>\n",
       "      <th>1</th>\n",
       "      <td>2</td>\n",
       "      <td>2020-06-02 01:28:18+00:00</td>\n",
       "      <td>1.267629e+18</td>\n",
       "      <td>a quem interessar possa: https://t.co/jCE51kLj...</td>\n",
       "      <td>pt</td>\n",
       "      <td>0</td>\n",
       "      <td>0</td>\n",
       "      <td>Tuesday</td>\n",
       "      <td>June</td>\n",
       "      <td>1</td>\n",
       "      <td>2020</td>\n",
       "      <td>2020-06-02</td>\n",
       "      <td>Sem like</td>\n",
       "      <td>Sem retweet</td>\n",
       "      <td>Jun-2020</td>\n",
       "    </tr>\n",
       "    <tr>\n",
       "      <th>2</th>\n",
       "      <td>3</td>\n",
       "      <td>2020-06-01 22:36:00+00:00</td>\n",
       "      <td>1.267586e+18</td>\n",
       "      <td>@Avanci83 E o povo que nega a Ciencia, as esta...</td>\n",
       "      <td>pt</td>\n",
       "      <td>0</td>\n",
       "      <td>0</td>\n",
       "      <td>Monday</td>\n",
       "      <td>June</td>\n",
       "      <td>22</td>\n",
       "      <td>2020</td>\n",
       "      <td>2020-06-01</td>\n",
       "      <td>Sem like</td>\n",
       "      <td>Sem retweet</td>\n",
       "      <td>Jun-2020</td>\n",
       "    </tr>\n",
       "    <tr>\n",
       "      <th>3</th>\n",
       "      <td>4</td>\n",
       "      <td>2020-06-01 22:04:53+00:00</td>\n",
       "      <td>1.267578e+18</td>\n",
       "      <td>@gabrielammafra amo o conceito média de 4 anos...</td>\n",
       "      <td>pt</td>\n",
       "      <td>1</td>\n",
       "      <td>2</td>\n",
       "      <td>Monday</td>\n",
       "      <td>June</td>\n",
       "      <td>22</td>\n",
       "      <td>2020</td>\n",
       "      <td>2020-06-01</td>\n",
       "      <td>Com like</td>\n",
       "      <td>Com retweet</td>\n",
       "      <td>Jun-2020</td>\n",
       "    </tr>\n",
       "    <tr>\n",
       "      <th>4</th>\n",
       "      <td>5</td>\n",
       "      <td>2020-06-01 21:10:17+00:00</td>\n",
       "      <td>1.267564e+18</td>\n",
       "      <td>@samydana Vc acha que homens públicos são hone...</td>\n",
       "      <td>pt</td>\n",
       "      <td>0</td>\n",
       "      <td>2</td>\n",
       "      <td>Monday</td>\n",
       "      <td>June</td>\n",
       "      <td>21</td>\n",
       "      <td>2020</td>\n",
       "      <td>2020-06-01</td>\n",
       "      <td>Com like</td>\n",
       "      <td>Sem retweet</td>\n",
       "      <td>Jun-2020</td>\n",
       "    </tr>\n",
       "  </tbody>\n",
       "</table>\n",
       "</div>"
      ],
      "text/plain": [
       "   Unnamed: 0                created_at            id  \\\n",
       "0           1 2020-06-02 02:14:43+00:00  1.267641e+18   \n",
       "1           2 2020-06-02 01:28:18+00:00  1.267629e+18   \n",
       "2           3 2020-06-01 22:36:00+00:00  1.267586e+18   \n",
       "3           4 2020-06-01 22:04:53+00:00  1.267578e+18   \n",
       "4           5 2020-06-01 21:10:17+00:00  1.267564e+18   \n",
       "\n",
       "                                           full_text lang  retweet_count  \\\n",
       "0  @OsmarTerra Dr. @OsmarTerra, desafie estes suj...   pt              0   \n",
       "1  a quem interessar possa: https://t.co/jCE51kLj...   pt              0   \n",
       "2  @Avanci83 E o povo que nega a Ciencia, as esta...   pt              0   \n",
       "3  @gabrielammafra amo o conceito média de 4 anos...   pt              1   \n",
       "4  @samydana Vc acha que homens públicos são hone...   pt              0   \n",
       "\n",
       "   favorite_count  weekday month  hour  year        date  favorite  \\\n",
       "0               0  Tuesday  June     2  2020  2020-06-02  Sem like   \n",
       "1               0  Tuesday  June     1  2020  2020-06-02  Sem like   \n",
       "2               0   Monday  June    22  2020  2020-06-01  Sem like   \n",
       "3               2   Monday  June    22  2020  2020-06-01  Com like   \n",
       "4               2   Monday  June    21  2020  2020-06-01  Com like   \n",
       "\n",
       "       retweet    period  \n",
       "0  Sem retweet  Jun-2020  \n",
       "1  Sem retweet  Jun-2020  \n",
       "2  Sem retweet  Jun-2020  \n",
       "3  Com retweet  Jun-2020  \n",
       "4  Sem retweet  Jun-2020  "
      ]
     },
     "execution_count": 3,
     "metadata": {},
     "output_type": "execute_result"
    }
   ],
   "source": [
    "# Transformar data (string >> datetime)\n",
    "get_datetime = lambda d: datetime.strptime(d, '%a %b %d %H:%M:%S %z %Y')\n",
    "df['created_at'] = df.created_at.apply(get_datetime)\n",
    "\n",
    "# Criar coluna com o dia da semana\n",
    "get_weekday = lambda d: calendar.day_name[d.weekday()]\n",
    "df['weekday'] = df.created_at.apply(get_weekday)\n",
    "\n",
    "# Criar coluna com o dia do mês\n",
    "get_month = lambda d: calendar.month_name[d.month]\n",
    "df['month'] = df.created_at.apply(get_month)\n",
    "\n",
    "# Criar coluna com horário\n",
    "get_hour = lambda d: d.hour\n",
    "df['hour'] = df.created_at.apply(get_hour)\n",
    "\n",
    "# Criar coluna com ano\n",
    "get_year = lambda d: d.year\n",
    "df['year'] = df.created_at.apply(get_year)\n",
    "\n",
    "# Criar coluna com a data\n",
    "get_date = lambda d: d.date\n",
    "df['date'] = df.created_at.apply(get_date)\n",
    "\n",
    "# Criar coluna com quantidade de likes\n",
    "get_favorite = lambda f: 'Com like' if f > 0 else 'Sem like'\n",
    "df['favorite'] = df.favorite_count.apply(get_favorite)\n",
    "\n",
    "# Criar coluna com quantidade de tweets\n",
    "get_retweet = lambda r: 'Com retweet' if r > 0 else 'Sem retweet'\n",
    "df['retweet'] = df.retweet_count.apply(get_retweet)\n",
    "\n",
    "# Criar coluna com periodo (mês + ano)\n",
    "month_list = list(df.month)\n",
    "year_list = [str(year) for year in list(df.year)]\n",
    "period = [month[0:3] + '-' + year for month, year in zip(month_list, year_list)]\n",
    "df = df.assign(period=period)\n",
    "\n",
    "df.head()"
   ]
  },
  {
   "cell_type": "markdown",
   "metadata": {},
   "source": [
    "## **Visão geral**"
   ]
  },
  {
   "cell_type": "markdown",
   "metadata": {},
   "source": [
    "### **Total de tweets**"
   ]
  },
  {
   "cell_type": "code",
   "execution_count": 4,
   "metadata": {
    "scrolled": true
   },
   "outputs": [
    {
     "data": {
      "text/plain": [
       "907"
      ]
     },
     "execution_count": 4,
     "metadata": {},
     "output_type": "execute_result"
    }
   ],
   "source": [
    "# Total de mensagens\n",
    "len(df)"
   ]
  },
  {
   "cell_type": "code",
   "execution_count": 5,
   "metadata": {},
   "outputs": [
    {
     "data": {
      "text/plain": [
       "datetime.date(2020, 6, 2)"
      ]
     },
     "execution_count": 5,
     "metadata": {},
     "output_type": "execute_result"
    }
   ],
   "source": [
    "# Último tweet\n",
    "max(df.date)"
   ]
  },
  {
   "cell_type": "code",
   "execution_count": 6,
   "metadata": {},
   "outputs": [
    {
     "data": {
      "text/plain": [
       "datetime.date(2019, 2, 1)"
      ]
     },
     "execution_count": 6,
     "metadata": {},
     "output_type": "execute_result"
    }
   ],
   "source": [
    "# Primeiro tweet\n",
    "min(df.date)"
   ]
  },
  {
   "cell_type": "code",
   "execution_count": 7,
   "metadata": {},
   "outputs": [
    {
     "data": {
      "text/plain": [
       "1230"
      ]
     },
     "execution_count": 7,
     "metadata": {},
     "output_type": "execute_result"
    }
   ],
   "source": [
    "# Nº total de retweets recebidos\n",
    "sum(df.retweet_count)"
   ]
  },
  {
   "cell_type": "code",
   "execution_count": 8,
   "metadata": {},
   "outputs": [
    {
     "data": {
      "text/plain": [
       "2000"
      ]
     },
     "execution_count": 8,
     "metadata": {},
     "output_type": "execute_result"
    }
   ],
   "source": [
    "# Nº total de likes recebidos\n",
    "sum(df.favorite_count)"
   ]
  },
  {
   "cell_type": "code",
   "execution_count": 9,
   "metadata": {},
   "outputs": [
    {
     "data": {
      "text/plain": [
       "906    Compartilhe o app com seus amigos e me adicion...\n",
       "Name: full_text, dtype: object"
      ]
     },
     "execution_count": 9,
     "metadata": {},
     "output_type": "execute_result"
    }
   ],
   "source": [
    "# Tweet com mais curtidas\n",
    "max_favorite = max(df.favorite_count)\n",
    "df['full_text'][df['favorite_count'] == max_favorite]"
   ]
  },
  {
   "cell_type": "code",
   "execution_count": 10,
   "metadata": {},
   "outputs": [
    {
     "data": {
      "text/plain": [
       "905    O My Twitter Data mostra suas principais estat...\n",
       "Name: full_text, dtype: object"
      ]
     },
     "execution_count": 10,
     "metadata": {},
     "output_type": "execute_result"
    }
   ],
   "source": [
    "# Tweet com mais curtidas\n",
    "max_retweet = max(df.retweet_count)\n",
    "df['full_text'][df['retweet_count'] == max_retweet]"
   ]
  },
  {
   "cell_type": "markdown",
   "metadata": {},
   "source": [
    "### **Donuts**"
   ]
  },
  {
   "cell_type": "code",
   "execution_count": 13,
   "metadata": {},
   "outputs": [
    {
     "data": {
      "text/html": [
       "\n",
       "        <iframe\n",
       "            width=\"100%\"\n",
       "            height=\"525px\"\n",
       "            src=\"https://plotly.com/~midoritoyota/128.embed\"\n",
       "            frameborder=\"0\"\n",
       "            allowfullscreen\n",
       "        ></iframe>\n",
       "        "
      ],
      "text/plain": [
       "<IPython.lib.display.IFrame at 0x2b52161a4c8>"
      ]
     },
     "execution_count": 13,
     "metadata": {},
     "output_type": "execute_result"
    }
   ],
   "source": [
    "df_favorite = Counter(df.favorite)\n",
    "labels = list(df_favorite.keys()) \n",
    "values = list(df_favorite.values())\n",
    "\n",
    "# Use `hole` to create a donut-like pie chart\n",
    "data=[go.Pie(labels=labels, values=values, hole=.5, marker = {'colors': ['#B5ACA7', '#0000B3']})]\n",
    "py.iplot(data)"
   ]
  },
  {
   "cell_type": "code",
   "execution_count": 12,
   "metadata": {
    "scrolled": false
   },
   "outputs": [
    {
     "data": {
      "text/html": [
       "\n",
       "        <iframe\n",
       "            width=\"100%\"\n",
       "            height=\"525px\"\n",
       "            src=\"https://plotly.com/~midoritoyota/126.embed\"\n",
       "            frameborder=\"0\"\n",
       "            allowfullscreen\n",
       "        ></iframe>\n",
       "        "
      ],
      "text/plain": [
       "<IPython.lib.display.IFrame at 0x2b521813a88>"
      ]
     },
     "execution_count": 12,
     "metadata": {},
     "output_type": "execute_result"
    }
   ],
   "source": [
    "# Tweets Retwitados\n",
    "df_retweet = Counter(df.retweet)\n",
    "labels = list(df_retweet.keys()) \n",
    "values = list(df_retweet.values())\n",
    "\n",
    "# Use `hole` to create a donut-like pie chart\n",
    "data=[go.Pie(labels=labels, values=values, hole=.5, marker = {'colors': ['#B5ACA7', '#0000B3']})]\n",
    "py.iplot(data)"
   ]
  },
  {
   "cell_type": "markdown",
   "metadata": {},
   "source": [
    "## **Análise temporal**\n"
   ]
  },
  {
   "cell_type": "markdown",
   "metadata": {},
   "source": [
    "### **Tweets por dia da semana**"
   ]
  },
  {
   "cell_type": "code",
   "execution_count": 14,
   "metadata": {},
   "outputs": [
    {
     "name": "stdout",
     "output_type": "stream",
     "text": [
      "{'Sunday': 100, 'Monday': 127, 'Tuesday': 169, 'Wednesday': 141, 'Thursday': 111, 'Friday': 144, 'Saturday': 115}\n"
     ]
    }
   ],
   "source": [
    "# Contagem dos dias da semana com Counter\n",
    "df_weekday = Counter(df.weekday)\n",
    "\n",
    "# Corrigir ordem dos dias da semana\n",
    "ordered_weekday = ['Sunday', 'Monday', 'Tuesday', 'Wednesday', 'Thursday', 'Friday', 'Saturday']\n",
    "df_weekday = {k: df_weekday[k] for k in ordered_weekday}\n",
    "print(df_weekday)"
   ]
  },
  {
   "cell_type": "code",
   "execution_count": 15,
   "metadata": {
    "scrolled": false
   },
   "outputs": [
    {
     "data": {
      "text/html": [
       "\n",
       "        <iframe\n",
       "            width=\"100%\"\n",
       "            height=\"525px\"\n",
       "            src=\"https://plotly.com/~midoritoyota/130.embed\"\n",
       "            frameborder=\"0\"\n",
       "            allowfullscreen\n",
       "        ></iframe>\n",
       "        "
      ],
      "text/plain": [
       "<IPython.lib.display.IFrame at 0x2b5218efc48>"
      ]
     },
     "execution_count": 15,
     "metadata": {},
     "output_type": "execute_result"
    }
   ],
   "source": [
    "# Plot\n",
    "data = [go.Bar(x=list(df_weekday.keys()), y=list(df_weekday.values()), marker={'color':'#E41A1C'})]\n",
    "layout = go.Layout(xaxis={'title':'Dia da semana'}, yaxis={'title':'Quantidade de tweets'})\n",
    "fig = go.Figure(data=data, layout=layout)\n",
    "py.iplot(fig)"
   ]
  },
  {
   "cell_type": "markdown",
   "metadata": {},
   "source": [
    "### **Tweets por hora do dia**"
   ]
  },
  {
   "cell_type": "code",
   "execution_count": 16,
   "metadata": {},
   "outputs": [
    {
     "name": "stdout",
     "output_type": "stream",
     "text": [
      "{0: 78, 1: 55, 2: 50, 3: 22, 4: 12, 5: 10, 6: 1, 7: 0, 8: 1, 9: 7, 10: 13, 11: 25, 12: 59, 13: 81, 14: 65, 15: 66, 16: 31, 17: 47, 18: 42, 19: 42, 20: 40, 21: 36, 22: 49, 23: 75}\n"
     ]
    }
   ],
   "source": [
    "# Contagem dos dias do mês com Counter\n",
    "df_hour = Counter(df.hour)\n",
    "\n",
    "# Corrigir ordem dos dias da semana\n",
    "desired_order_list = list(range(0,24))\n",
    "df_hour = {k: df_hour[k] for k in desired_order_list}\n",
    "print(df_hour)"
   ]
  },
  {
   "cell_type": "code",
   "execution_count": 17,
   "metadata": {},
   "outputs": [
    {
     "data": {
      "text/html": [
       "\n",
       "        <iframe\n",
       "            width=\"100%\"\n",
       "            height=\"525px\"\n",
       "            src=\"https://plotly.com/~midoritoyota/132.embed\"\n",
       "            frameborder=\"0\"\n",
       "            allowfullscreen\n",
       "        ></iframe>\n",
       "        "
      ],
      "text/plain": [
       "<IPython.lib.display.IFrame at 0x2b5218e20c8>"
      ]
     },
     "execution_count": 17,
     "metadata": {},
     "output_type": "execute_result"
    }
   ],
   "source": [
    "# Plot\n",
    "data = [go.Bar(x=list(df_hour.keys()), y=list(df_hour.values()), marker={'color':'#4DAF4A'})]\n",
    "layout = go.Layout(xaxis={'title':'Horário'}, yaxis={'title':'Quantidade de tweets'})\n",
    "fig = go.Figure(data=data, layout=layout)\n",
    "py.iplot(fig)"
   ]
  },
  {
   "cell_type": "markdown",
   "metadata": {},
   "source": [
    "### **Heatmap**\n",
    "\n",
    "\n",
    "https://jamesrledoux.com/code/group-by-aggregate-pandas"
   ]
  },
  {
   "cell_type": "code",
   "execution_count": 18,
   "metadata": {},
   "outputs": [
    {
     "data": {
      "text/plain": [
       "weekday    hour\n",
       "Friday     0       11\n",
       "           1       13\n",
       "           2        6\n",
       "           4        1\n",
       "           5        1\n",
       "                   ..\n",
       "Wednesday  19       9\n",
       "           20       3\n",
       "           21       2\n",
       "           22       8\n",
       "           23      21\n",
       "Name: id, Length: 135, dtype: int64"
      ]
     },
     "execution_count": 18,
     "metadata": {},
     "output_type": "execute_result"
    }
   ],
   "source": [
    "# Dados\n",
    "df_heatmap = df.groupby(['weekday', 'hour']).id.count()\n",
    "df_heatmap"
   ]
  },
  {
   "cell_type": "code",
   "execution_count": 19,
   "metadata": {},
   "outputs": [],
   "source": [
    "ordered_heatmap = []\n",
    "\n",
    "for a in ordered_weekday:\n",
    "    for b in list(range(0,24)):\n",
    "        ordered_heatmap.append((a,b))"
   ]
  },
  {
   "cell_type": "code",
   "execution_count": 20,
   "metadata": {},
   "outputs": [],
   "source": [
    "x_values = [x[0] for x in ordered_heatmap]\n",
    "y_values = [x[1] for x in ordered_heatmap]\n",
    "\n",
    "z_values = []\n",
    "\n",
    "for a in ordered_heatmap:\n",
    "    if a in df_heatmap:\n",
    "        z_values.append(df_heatmap[a])\n",
    "    else:\n",
    "        z_values.append(0)"
   ]
  },
  {
   "cell_type": "code",
   "execution_count": 21,
   "metadata": {},
   "outputs": [
    {
     "data": {
      "text/html": [
       "\n",
       "        <iframe\n",
       "            width=\"100%\"\n",
       "            height=\"525px\"\n",
       "            src=\"https://plotly.com/~midoritoyota/134.embed\"\n",
       "            frameborder=\"0\"\n",
       "            allowfullscreen\n",
       "        ></iframe>\n",
       "        "
      ],
      "text/plain": [
       "<IPython.lib.display.IFrame at 0x2b51da65488>"
      ]
     },
     "execution_count": 21,
     "metadata": {},
     "output_type": "execute_result"
    }
   ],
   "source": [
    "# Plot\n",
    "data = go.Heatmap(x=x_values, y=y_values, z=z_values, colorscale='Jet',\n",
    "                 colorbar = {'title': 'Nº de tweets <br>enviados'})\n",
    "layout = go.Layout(xaxis = dict(title='Dia da semana'),\n",
    "                  yaxis = dict(title='Hora do dia'))\n",
    "\n",
    "fig = go.Figure(data=data, layout=layout)\n",
    "\n",
    "py.iplot(fig)"
   ]
  },
  {
   "cell_type": "markdown",
   "metadata": {},
   "source": [
    "### **Tweets por Mês**"
   ]
  },
  {
   "cell_type": "code",
   "execution_count": 22,
   "metadata": {},
   "outputs": [
    {
     "name": "stdout",
     "output_type": "stream",
     "text": [
      "{'January': 76, 'February': 86, 'March': 42, 'April': 128, 'May': 135, 'June': 84, 'July': 69, 'August': 64, 'September': 68, 'October': 55, 'November': 43, 'December': 57}\n"
     ]
    }
   ],
   "source": [
    "# Contagem dos dias do mês com Counter\n",
    "df_month = Counter(df.month)\n",
    "\n",
    "# Corrigir ordem dos dias da semana\n",
    "desired_order_list = ['January', 'February', 'March', 'April', 'May', 'June', 'July', 'August', 'September', 'October', 'November', 'December']\n",
    "df_month = {k: df_month[k] for k in desired_order_list}\n",
    "print(df_month)"
   ]
  },
  {
   "cell_type": "code",
   "execution_count": 23,
   "metadata": {
    "scrolled": false
   },
   "outputs": [
    {
     "data": {
      "text/html": [
       "\n",
       "        <iframe\n",
       "            width=\"100%\"\n",
       "            height=\"525px\"\n",
       "            src=\"https://plotly.com/~midoritoyota/136.embed\"\n",
       "            frameborder=\"0\"\n",
       "            allowfullscreen\n",
       "        ></iframe>\n",
       "        "
      ],
      "text/plain": [
       "<IPython.lib.display.IFrame at 0x2b51da73f88>"
      ]
     },
     "execution_count": 23,
     "metadata": {},
     "output_type": "execute_result"
    }
   ],
   "source": [
    "# Plot\n",
    "data = [go.Bar(x=list(df_month.keys()), y=list(df_month.values()), )]\n",
    "layout = go.Layout(xaxis={'title':'Mês'}, yaxis={'title':'Quantidade de tweets'})\n",
    "fig = go.Figure(data=data, layout=layout)\n",
    "py.iplot(fig)"
   ]
  },
  {
   "cell_type": "markdown",
   "metadata": {},
   "source": [
    "### **Por Período**"
   ]
  },
  {
   "cell_type": "code",
   "execution_count": 24,
   "metadata": {},
   "outputs": [],
   "source": [
    "# Contagem dos dias da semana com Counter\n",
    "df_period = Counter(df.period)\n",
    "\n",
    "# Período completo ordenado\n",
    "ordered_year = [str(year) for year in sorted(df.year.unique())]\n",
    "ordered_month = ['Jan', 'Feb', 'Mar', 'Apr', 'May', 'Jun', 'Jul', 'Aug', 'Sep', 'Oct', 'Nov', 'Dec']"
   ]
  },
  {
   "cell_type": "code",
   "execution_count": 25,
   "metadata": {},
   "outputs": [
    {
     "name": "stdout",
     "output_type": "stream",
     "text": [
      "['Jan-2019', 'Feb-2019', 'Mar-2019', 'Apr-2019', 'May-2019', 'Jun-2019', 'Jul-2019', 'Aug-2019', 'Sep-2019', 'Oct-2019', 'Nov-2019', 'Dec-2019', 'Jan-2020', 'Feb-2020', 'Mar-2020', 'Apr-2020', 'May-2020', 'Jun-2020', 'Jul-2020', 'Aug-2020', 'Sep-2020', 'Oct-2020', 'Nov-2020', 'Dec-2020']\n"
     ]
    }
   ],
   "source": [
    "ordered_period = []\n",
    "\n",
    "for year in ordered_year:\n",
    "    for month in ordered_month:\n",
    "        ordered_period.append(month + '-' + year)\n",
    "        \n",
    "print(ordered_period)        "
   ]
  },
  {
   "cell_type": "code",
   "execution_count": 26,
   "metadata": {},
   "outputs": [
    {
     "name": "stdout",
     "output_type": "stream",
     "text": [
      "{'Feb-2019': 72, 'Mar-2019': 42, 'Apr-2019': 68, 'May-2019': 90, 'Jun-2019': 74, 'Jul-2019': 69, 'Aug-2019': 64, 'Sep-2019': 68, 'Oct-2019': 55, 'Nov-2019': 43, 'Dec-2019': 57, 'Jan-2020': 76, 'Feb-2020': 14, 'Apr-2020': 60, 'May-2020': 45, 'Jun-2020': 10}\n"
     ]
    }
   ],
   "source": [
    "# Corrigir ordem dos períodos\n",
    "df_period = {k: df_period[k] for k in ordered_period if df_period[k] > 0}\n",
    "print(df_period)"
   ]
  },
  {
   "cell_type": "code",
   "execution_count": 27,
   "metadata": {},
   "outputs": [
    {
     "data": {
      "text/html": [
       "\n",
       "        <iframe\n",
       "            width=\"100%\"\n",
       "            height=\"525px\"\n",
       "            src=\"https://plotly.com/~midoritoyota/138.embed\"\n",
       "            frameborder=\"0\"\n",
       "            allowfullscreen\n",
       "        ></iframe>\n",
       "        "
      ],
      "text/plain": [
       "<IPython.lib.display.IFrame at 0x2b51da7d748>"
      ]
     },
     "execution_count": 27,
     "metadata": {},
     "output_type": "execute_result"
    }
   ],
   "source": [
    "# Plot\n",
    "data = [go.Bar(x=list(df_period.keys()), y=list(df_period.values()))]\n",
    "layout = go.Layout(xaxis={'title':'Mês-Ano'}, yaxis={'title':'Quantidade de tweets'})\n",
    "fig = go.Figure(data=data, layout=layout)\n",
    "py.iplot(fig)"
   ]
  },
  {
   "cell_type": "markdown",
   "metadata": {},
   "source": [
    "### **Tweets por Ano**"
   ]
  },
  {
   "cell_type": "code",
   "execution_count": 28,
   "metadata": {},
   "outputs": [
    {
     "name": "stdout",
     "output_type": "stream",
     "text": [
      "{2019: 702, 2020: 205}\n"
     ]
    }
   ],
   "source": [
    "# Contagem dos dias do ano com Counter\n",
    "df_year = Counter(df.year)\n",
    "\n",
    "# Corrigir ordem dos dias da semana\n",
    "desired_order_list = sorted(df_year)\n",
    "df_year = {k: df_year[k] for k in desired_order_list}\n",
    "print(df_year)"
   ]
  },
  {
   "cell_type": "code",
   "execution_count": 29,
   "metadata": {
    "scrolled": false
   },
   "outputs": [
    {
     "data": {
      "text/html": [
       "\n",
       "        <iframe\n",
       "            width=\"100%\"\n",
       "            height=\"525px\"\n",
       "            src=\"https://plotly.com/~midoritoyota/140.embed\"\n",
       "            frameborder=\"0\"\n",
       "            allowfullscreen\n",
       "        ></iframe>\n",
       "        "
      ],
      "text/plain": [
       "<IPython.lib.display.IFrame at 0x2b51da8cd88>"
      ]
     },
     "execution_count": 29,
     "metadata": {},
     "output_type": "execute_result"
    }
   ],
   "source": [
    "# Plot\n",
    "data = [go.Bar(x=list(df_year.keys()), y=list(df_year.values()), marker={'color':'#FFD700'})]\n",
    "layout = go.Layout(xaxis={'title':'Ano', 'dtick': 1}, yaxis={'title':'Quantidade de tweets'})\n",
    "fig = go.Figure(data=data, layout=layout)\n",
    "py.iplot(fig)"
   ]
  },
  {
   "cell_type": "markdown",
   "metadata": {},
   "source": [
    "## **Núvem de palavras**\n",
    "---\n",
    "\n",
    "Fonte utilizada para fazer a nuvem de palavras:\n",
    "\n",
    "https://medium.com/@shsu14/introduction-to-data-science-custom-twitter-word-clouds-704ec5538f46\n",
    "\n",
    "Fonte das stopwords:\n",
    "\n",
    "https://github.com/stopwords-iso/stopwords-pt/blob/master/stopwords-pt.txt\n"
   ]
  },
  {
   "cell_type": "code",
   "execution_count": 30,
   "metadata": {},
   "outputs": [
    {
     "data": {
      "text/plain": [
       "['desafie',\n",
       " 'sujeitos',\n",
       " 'usam',\n",
       " 'ciencia',\n",
       " 'alguma',\n",
       " 'mentem',\n",
       " 'desconversam',\n",
       " 'debat',\n",
       " 'interessar']"
      ]
     },
     "execution_count": 30,
     "metadata": {},
     "output_type": "execute_result"
    }
   ],
   "source": [
    "# Função para remover os acentos\n",
    "def substituir_acentos(txt, codif='utf-8'):\n",
    "    return normalize('NFKD', txt).encode('ASCII', 'ignore')\n",
    "\n",
    "# Criação de Bag of Words\n",
    "raw_tweets = []\n",
    "for tweets in df['full_text']:\n",
    "    raw_tweets.append(tweets)\n",
    "\n",
    "# Remoção de caracteres especiais\n",
    "raw_string = ''.join(raw_tweets) \n",
    "no_links = re.sub(r'http\\S+', '', raw_string) # Remove tudo que começa com http\n",
    "no_acentos = str(substituir_acentos(no_links))[2:-1] # Substitui letras com acentos pelo equivalente sem acento\n",
    "no_unicode = re.sub(r\"\\\\[a-z][a-z]?[0-9]+\", '', no_acentos) \n",
    "no_mark= re.sub(r'(\\s)@\\w+', r'\\1', no_unicode) # Remove marcações de usuários (palavras que começam com @)\n",
    "no_special_characters = re.sub('[^A-Za-z ]+', '', no_mark) # Remove caracteres especiais que restaram\n",
    "\n",
    "\n",
    "# Lista de 500 stopwords em português\n",
    "with open('stopwords-pt.txt', 'r', encoding=\"utf-8\") as file:\n",
    "    stop_word = file.read().replace('\\n', ',')\n",
    "STOPWORDS = stop_word.split(\",\")\n",
    "\n",
    "# Remoção de stopwords\n",
    "words = no_special_characters.split(\" \")\n",
    "words = [w for w in words if len(w) > 2]  # Renoção de palavras com menos de duas letras\n",
    "words = [w.lower() for w in words]\n",
    "words = [w for w in words if w not in STOPWORDS]\n",
    "words[1:10]"
   ]
  },
  {
   "cell_type": "code",
   "execution_count": 31,
   "metadata": {},
   "outputs": [
    {
     "data": {
      "text/plain": [
       "['desafie',\n",
       " 'sujeitos',\n",
       " 'usam',\n",
       " 'ciencia',\n",
       " 'alguma',\n",
       " 'mentem',\n",
       " 'desconversam',\n",
       " 'debat',\n",
       " 'interessar']"
      ]
     },
     "execution_count": 31,
     "metadata": {},
     "output_type": "execute_result"
    }
   ],
   "source": [
    "# Opcional, remoção de palavras extras\n",
    "words_extra = ['pra', 'voce', 'acho', 'ficar', 'vou', 'deram', 'mim', 'voces', 'vamos', 'alguem','esta', 'fazendo', 'tava', 'fica', 'entao', 'pro']\n",
    "\n",
    "# Escrever a lista de palavras extras, esse comando não será inserido no app:\n",
    "with open(\"stopwords-extra.txt\", \"w\") as output:\n",
    "    for item in words_extra:\n",
    "        output.write(str(item) + \"\\n\")\n",
    "\n",
    "# Remover lista de palavras extras\n",
    "with open('stopwords-extra.txt', 'r', encoding=\"utf-8\") as file:\n",
    "    stop_word = file.read().replace('\\n', ',')\n",
    "\n",
    "    STOPWORDS_extra = stop_word.split(\",\")\n",
    "\n",
    "words_special = [w for w in words if w not in STOPWORDS_extra]\n",
    "words_special[1:10]"
   ]
  },
  {
   "cell_type": "code",
   "execution_count": 32,
   "metadata": {},
   "outputs": [],
   "source": [
    "df_palavras = Counter(words_special)\n",
    "df_palavras = df_palavras.most_common()"
   ]
  },
  {
   "cell_type": "code",
   "execution_count": 33,
   "metadata": {},
   "outputs": [
    {
     "data": {
      "text/html": [
       "\n",
       "        <iframe\n",
       "            width=\"100%\"\n",
       "            height=\"525px\"\n",
       "            src=\"https://plotly.com/~midoritoyota/142.embed\"\n",
       "            frameborder=\"0\"\n",
       "            allowfullscreen\n",
       "        ></iframe>\n",
       "        "
      ],
      "text/plain": [
       "<IPython.lib.display.IFrame at 0x2b51dbf6188>"
      ]
     },
     "execution_count": 33,
     "metadata": {},
     "output_type": "execute_result"
    }
   ],
   "source": [
    "# Plot\n",
    "data = [go.Bar(x=list(dict(df_palavras).keys())[:20], y=list(dict(df_palavras).values())[:20], marker={'color':'#984EA3'})]\n",
    "layout = go.Layout(xaxis={'title':'Mês-Ano'}, yaxis={'title':'Quantidade de tweets'})\n",
    "fig = go.Figure(data=data, layout=layout)\n",
    "py.iplot(fig)"
   ]
  },
  {
   "cell_type": "markdown",
   "metadata": {},
   "source": [
    "### **Word Cloud**"
   ]
  },
  {
   "cell_type": "code",
   "execution_count": 276,
   "metadata": {},
   "outputs": [],
   "source": [
    "# Escrever palavras para testar as palavras no wordcloud do google colab (wordcloud não roda no meu notebook(??))\n",
    "with open(\"words.txt\", \"w\") as output:\n",
    "    for item in words:\n",
    "        output.write(str(item) + \"\\n\")"
   ]
  },
  {
   "cell_type": "code",
   "execution_count": 291,
   "metadata": {},
   "outputs": [
    {
     "data": {
      "image/png": "[encoded data removed]",
      "text/plain": [
       "<Figure size 720x360 with 1 Axes>"
      ]
     },
     "metadata": {
      "needs_background": "light"
     },
     "output_type": "display_data"
    }
   ],
   "source": [
    "# Função para executar a wordcloud\n",
    "wordcloud = WordCloud(background_color=\"white\", width = 1600, height = 800, scale=1).generate(' '.join(words_special))\n",
    "plt.figure(figsize=(10,5))\n",
    "plt.imshow(wordcloud)\n",
    "plt.axis(\"off\")\n",
    "plt.tight_layout(pad=0)\n",
    "plt.savefig('1000x500-1-10x5-nearest-equal-tight_layout.jpg')\n",
    "plt.show()"
   ]
  },
  {
   "cell_type": "markdown",
   "metadata": {},
   "source": [
    "---\n",
    "\n",
    "<a href=\"https://midoritoyota.netlify.app/\" target=\"_blank\"><img align=\"left\" src=\"portfolio.png\" title=\"See my portfolio!\"/></a><img align=\"left\" src=\"espaco.png\"/>\n",
    "\n",
    "<a href=\"mailto:midori.toyota@gmail.com\" target=\"_blank\"><img align=\"left\" src=\"gmail.png\" title=\"Contact me!\"/></a><img align=\"left\" src=\"espaco.png\"/>\n",
    "\n",
    "<a href=\"https://www.linkedin.com/in/midoritoyota/\" target=\"_blank\"> <img align=\"left\" src=\"linkedin.png\" title=\"Connect with me on linkedin!\" /></a><img align=\"left\" src=\"espaco.png\"/>\n",
    "\n",
    "<a href=\"https://github.com/MidoriToyota\" target=\"_blank\"> <img align=\"left\" src=\"github.png\" title=\"Follow me on github!\"/></a>\n",
    "\n",
    "<br/><br/>"
   ]
  }
 ],
 "metadata": {
  "kernelspec": {
   "display_name": "Python 3",
   "language": "python",
   "name": "python3"
  },
  "language_info": {
   "codemirror_mode": {
    "name": "ipython",
    "version": 3
   },
   "file_extension": ".py",
   "mimetype": "text/x-python",
   "name": "python",
   "nbconvert_exporter": "python",
   "pygments_lexer": "ipython3",
   "version": "3.7.6"
  }
 },
 "nbformat": 4,
 "nbformat_minor": 4
}
